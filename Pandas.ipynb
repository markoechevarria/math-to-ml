{
 "cells": [
  {
   "cell_type": "markdown",
   "id": "bc0a115b-4f02-4b1b-8fa3-1f3618bdcf4e",
   "metadata": {},
   "source": [
    "# Pandas"
   ]
  },
  {
   "cell_type": "code",
   "execution_count": 70,
   "id": "fff463ff-59b1-4c07-9473-5de49adfd33f",
   "metadata": {},
   "outputs": [],
   "source": [
    "import pandas as pd\n",
    "import numpy as np"
   ]
  },
  {
   "cell_type": "code",
   "execution_count": 4,
   "id": "3073981b-338e-432e-9ccf-43f78db0e25c",
   "metadata": {},
   "outputs": [
    {
     "data": {
      "text/plain": [
       "'2.3.2'"
      ]
     },
     "execution_count": 4,
     "metadata": {},
     "output_type": "execute_result"
    }
   ],
   "source": [
    "pd.__version__"
   ]
  },
  {
   "cell_type": "markdown",
   "id": "bf30e122-2590-4516-938d-2dd0722d2363",
   "metadata": {},
   "source": [
    "### 1. Introduction into Pandas"
   ]
  },
  {
   "cell_type": "code",
   "execution_count": 31,
   "id": "e6e26cfe-5902-4cd1-9906-8d7281c897ef",
   "metadata": {},
   "outputs": [
    {
     "name": "stdout",
     "output_type": "stream",
     "text": [
      "RangeIndex(start=0, stop=6, step=1) \n",
      "\n",
      "[11 28 72  3  5  8] \n",
      "\n",
      "apples      1\n",
      "oranges     2\n",
      "cherries    3\n",
      "pears       4\n",
      "dtype: int64 \n",
      "\n",
      "apples      12.0\n",
      "cherries    16.0\n",
      "oranges     14.0\n",
      "pears        NaN\n",
      "portakal     NaN\n",
      "dtype: float64\n"
     ]
    }
   ],
   "source": [
    "# Series\n",
    "\n",
    "a = pd.Series([11, 28, 72, 3, 5, 8])\n",
    "b_1 = ['apples', 'oranges', 'cherries', 'pears']\n",
    "b_2 = ['apples', 'oranges', 'cherries', 'portakal']\n",
    "c = pd.Series([1,2,3,4], index=b_1)\n",
    "d = pd.Series([11,12,13,14], index=b_2)\n",
    "\n",
    "print(a.index, \"\\n\")\n",
    "print(a.values, \"\\n\")\n",
    "print(c, \"\\n\")\n",
    "print(c + d)"
   ]
  },
  {
   "cell_type": "code",
   "execution_count": 71,
   "id": "6f28bdf0-bdca-4fa4-bf26-07160410353b",
   "metadata": {},
   "outputs": [
    {
     "name": "stdout",
     "output_type": "stream",
     "text": [
      "1 \n",
      "\n",
      "apples      1\n",
      "oranges     2\n",
      "cherries    3\n",
      "dtype: int64 \n",
      "\n",
      "apples      16\n",
      "oranges     20\n",
      "cherries    24\n",
      "pears       28\n",
      "dtype: int64 \n",
      "\n",
      "apples      0.841471\n",
      "oranges     0.909297\n",
      "cherries    0.141120\n",
      "pears      -0.756802\n",
      "dtype: float64\n"
     ]
    }
   ],
   "source": [
    "# Indexing\n",
    "\n",
    "a = pd.Series([1,2,3,4], index=b_1)\n",
    "print(a['apples'], \"\\n\")\n",
    "print(a[['apples', 'oranges', 'cherries']], \"\\n\")\n",
    "print((a + 3) * 4 , \"\\n\")\n",
    "print(np.sin(a))"
   ]
  },
  {
   "cell_type": "code",
   "execution_count": 80,
   "id": "4deb2402-38ad-4c18-ad86-6bcaa5ac6d02",
   "metadata": {},
   "outputs": [
    {
     "name": "stdout",
     "output_type": "stream",
     "text": [
      "apples      0.000000\n",
      "oranges     0.693147\n",
      "cherries    1.098612\n",
      "pears       1.386294\n",
      "dtype: float64 \n",
      "\n",
      "apples      11\n",
      "oranges     12\n",
      "cherries    13\n",
      "pears       14\n",
      "dtype: int64\n"
     ]
    }
   ],
   "source": [
    "# pandas.Series.apply\n",
    "\n",
    "print( a.apply( np.log ), \"\\n\" )\n",
    "print( a.apply( lambda x: x if x > 50 else x + 10 ) )"
   ]
  },
  {
   "cell_type": "code",
   "execution_count": 97,
   "id": "a92a57fc-491a-4128-8886-1882197881a1",
   "metadata": {},
   "outputs": [
    {
     "name": "stdout",
     "output_type": "stream",
     "text": [
      "cherries    3\n",
      "pears       4\n",
      "dtype: int64\n",
      "True\n"
     ]
    }
   ],
   "source": [
    "# Filtering with a Boolean array\n",
    "\n",
    "print( a[ a>2 ] )\n",
    "print( \"apples\" in a )"
   ]
  },
  {
   "cell_type": "code",
   "execution_count": 99,
   "id": "ceedaebe-e036-4944-82f9-f8b46ffd1901",
   "metadata": {},
   "outputs": [
    {
     "name": "stdout",
     "output_type": "stream",
     "text": [
      "London       8615246\n",
      "Berlin       3562166\n",
      "Madrid       3165235\n",
      "Budapest     1754000\n",
      "Warsaw       1740119\n",
      "Barcelona    1602386\n",
      "Munich       1493900\n",
      "Milan        1350680\n",
      "dtype: int64\n"
     ]
    }
   ],
   "source": [
    "# Creating Series Objects from Dictionaries\n",
    "\n",
    "cities = {\"London\":    8615246, \n",
    "          \"Berlin\":    3562166, \n",
    "          \"Madrid\":    3165235,\n",
    "          \"Budapest\":  1754000,\n",
    "          \"Warsaw\":    1740119,\n",
    "          \"Barcelona\": 1602386,\n",
    "          \"Munich\":    1493900,\n",
    "          \"Milan\":     1350680}\n",
    "\n",
    "city_series = pd.Series(cities)\n",
    "print(city_series)"
   ]
  },
  {
   "cell_type": "code",
   "execution_count": 112,
   "id": "829ad8d7-4fac-4607-a7cc-2d4d59950408",
   "metadata": {},
   "outputs": [
    {
     "name": "stdout",
     "output_type": "stream",
     "text": [
      "London       8615246.0\n",
      "Paris              NaN\n",
      "Zurich             NaN\n",
      "Berlin       3562166.0\n",
      "Stuttgart          NaN\n",
      "Hamburg            NaN\n",
      "dtype: float64 \n",
      "\n",
      "London       False\n",
      "Paris         True\n",
      "Zurich        True\n",
      "Berlin       False\n",
      "Stuttgart     True\n",
      "Hamburg       True\n",
      "dtype: bool \n",
      "\n",
      "London        True\n",
      "Paris        False\n",
      "Zurich       False\n",
      "Berlin        True\n",
      "Stuttgart    False\n",
      "Hamburg      False\n",
      "dtype: bool\n"
     ]
    }
   ],
   "source": [
    "# NaN - Missing Data, The Methods isnull() and notnull()\n",
    "\n",
    "my_cities = [\"London\", \"Paris\", \"Zurich\", \"Berlin\", \"Stuttgart\", \"Hamburg\"]\n",
    "my_city_series = pd.Series(cities, index=my_cities)\n",
    "print( my_city_series, \"\\n\" )\n",
    "print( my_city_series.isnull(), \"\\n\" )\n",
    "print( my_city_series.notnull() )"
   ]
  },
  {
   "cell_type": "code",
   "execution_count": 124,
   "id": "82347aad-a2a8-41b9-a9c2-06ca2342ea7a",
   "metadata": {},
   "outputs": [
    {
     "name": "stdout",
     "output_type": "stream",
     "text": [
      "London       8615246.0\n",
      "Paris              NaN\n",
      "Zurich             NaN\n",
      "Berlin       3562166.0\n",
      "Stuttgart          NaN\n",
      "Hamburg            NaN\n",
      "dtype: float64 \n",
      "\n",
      "London    8615246.0\n",
      "Berlin    3562166.0\n",
      "dtype: float64 \n",
      "\n",
      "London       8615246.0\n",
      "Paris              0.0\n",
      "Zurich             0.0\n",
      "Berlin       3562166.0\n",
      "Stuttgart          0.0\n",
      "Hamburg            0.0\n",
      "dtype: float64 \n",
      "\n",
      "London       8615246.0\n",
      "Paris              0.0\n",
      "Zurich        378884.0\n",
      "Berlin       3562166.0\n",
      "Stuttgart     597939.0\n",
      "Hamburg            0.0\n",
      "dtype: float64\n"
     ]
    }
   ],
   "source": [
    "# Filtering out Missing Data\n",
    "\n",
    "print( my_city_series, \"\\n\")\n",
    "print( my_city_series.dropna(), \"\\n\" )\n",
    "print( my_city_series.fillna(0), \"\\n\" )\n",
    "print( my_city_series.fillna( {\"Stuttgart\":597939, \"Zurich\":378884} ).fillna(0) )"
   ]
  },
  {
   "cell_type": "code",
   "execution_count": null,
   "id": "36823b99-3aba-447d-b306-7dbb060026d2",
   "metadata": {},
   "outputs": [],
   "source": []
  }
 ],
 "metadata": {
  "kernelspec": {
   "display_name": "Python 3 (ipykernel)",
   "language": "python",
   "name": "python3"
  },
  "language_info": {
   "codemirror_mode": {
    "name": "ipython",
    "version": 3
   },
   "file_extension": ".py",
   "mimetype": "text/x-python",
   "name": "python",
   "nbconvert_exporter": "python",
   "pygments_lexer": "ipython3",
   "version": "3.13.7"
  }
 },
 "nbformat": 4,
 "nbformat_minor": 5
}
