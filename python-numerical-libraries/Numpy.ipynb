{
 "cells": [
  {
   "cell_type": "markdown",
   "id": "d165ad33-7e4b-408b-9b0b-f194144a11ef",
   "metadata": {},
   "source": [
    "# Numpy"
   ]
  },
  {
   "cell_type": "code",
   "execution_count": 44,
   "id": "72f15054-75dc-410b-af42-e8403a436d1f",
   "metadata": {},
   "outputs": [],
   "source": [
    "import numpy as np"
   ]
  },
  {
   "cell_type": "code",
   "execution_count": 45,
   "id": "821f6153-c922-4f4d-b8c0-6f771b7afa9a",
   "metadata": {},
   "outputs": [
    {
     "data": {
      "text/plain": [
       "'2.3.1'"
      ]
     },
     "execution_count": 45,
     "metadata": {},
     "output_type": "execute_result"
    }
   ],
   "source": [
    "np.__version__"
   ]
  },
  {
   "cell_type": "markdown",
   "id": "5acbbc74-63eb-474c-9218-993cb1eaf9fd",
   "metadata": {},
   "source": [
    "### 1. Compare speed performance between numpy and python core"
   ]
  },
  {
   "cell_type": "code",
   "execution_count": 46,
   "id": "5011d698-43d5-47d8-8d6d-b65e8ac78103",
   "metadata": {},
   "outputs": [
    {
     "name": "stdout",
     "output_type": "stream",
     "text": [
      "Time of standard python: 0.010977506637573242\n",
      "Time of numpy: 0.0006718635559082031\n",
      "Numpy is in this example 26.780904522613067 faster.\n"
     ]
    }
   ],
   "source": [
    "import time\n",
    "size_vector = 100000\n",
    "\n",
    "def time_of_python_standard():\n",
    "    time_start = time.time()\n",
    "    vector_a = range(size_vector)\n",
    "    vector_b = range(size_vector)\n",
    "    new_vector = [ vector_a[i] + vector_b[i] for i in range(size_vector) ]\n",
    "    return time.time() - time_start\n",
    "    \n",
    "def time_of_numpy():\n",
    "    time_start = time.time()\n",
    "    vector_a = np.arange(size_vector)\n",
    "    vector_b = np.arange(size_vector)\n",
    "    new_vector = vector_a + vector_b\n",
    "    return time.time() - time_start\n",
    "\n",
    "print(f'Time of standard python: {time_of_python_standard()}')\n",
    "print(f'Time of numpy: {time_of_numpy()}')\n",
    "\n",
    "print(f'Numpy is in this example {time_of_python_standard()/time_of_numpy()} faster.')"
   ]
  },
  {
   "cell_type": "markdown",
   "id": "5fc7369a-49b0-4cba-baf7-37c7374a0e1f",
   "metadata": {},
   "source": [
    "### 2. Creating Numpy Arrays"
   ]
  },
  {
   "cell_type": "code",
   "execution_count": 76,
   "id": "58b4df1c-1d29-49ec-b8d0-42285d1df914",
   "metadata": {},
   "outputs": [
    {
     "name": "stdout",
     "output_type": "stream",
     "text": [
      "[1 2 3 4 5 6 7 8 9]\n",
      "[1 3 5 7 9]\n",
      "[0.1 0.2 0.3 0.4 0.5 0.6 0.7 0.8]\n"
     ]
    }
   ],
   "source": [
    "# Cration with evently spaced values\n",
    "\n",
    "a = np.arange(1, 10)\n",
    "b = np.arange(1, 10, 2) # third parameter is step\n",
    "c = np.arange(0.1, 0.9, 0.1, float) # fourth parameter is step\n",
    "print(a)\n",
    "print(b)\n",
    "print(c)"
   ]
  },
  {
   "cell_type": "code",
   "execution_count": 77,
   "id": "0954d649-40ce-4d92-9fca-a21dd6a37cda",
   "metadata": {},
   "outputs": [
    {
     "name": "stdout",
     "output_type": "stream",
     "text": [
      "[ 1.   5.5 10. ]\n",
      "[ 1.   2.8  4.6  6.4  8.2 10. ]\n"
     ]
    }
   ],
   "source": [
    "# Creation of a ndarray with equally spaced samples, by default 50 samples; if retstep is True then the function will also return the vlaue of the spacing value \n",
    "a = np.linspace(1, 10, 3)\n",
    "b = np.linspace(1, 10, 6)\n",
    "print(a)\n",
    "print(b)"
   ]
  },
  {
   "cell_type": "code",
   "execution_count": 78,
   "id": "a671ade7-b5aa-44cd-a763-216183a4c821",
   "metadata": {},
   "outputs": [
    {
     "name": "stdout",
     "output_type": "stream",
     "text": [
      "42 \t <class 'numpy.ndarray'> \t 0 ()\n",
      "[1 2 3 4 5 6] \t <class 'numpy.ndarray'> \t 1 (6,)\n",
      "[[1 2 3]\n",
      " [4 5 6]] \t <class 'numpy.ndarray'> \t 2 (2, 3)\n"
     ]
    }
   ],
   "source": [
    "# n-dimensional arrays and shape of an array\n",
    "\n",
    "a = np.array(42)\n",
    "b = np.array([1,2,3,4,5,6])\n",
    "c = np.array([[1,2,3], [4,5,6]])\n",
    "print(a, \"\\t\", type(a), \"\\t\", np.ndim(a), np.shape(a))\n",
    "print(b, \"\\t\", type(b), \"\\t\", np.ndim(b), np.shape(b))\n",
    "print(c, \"\\t\", type(c), \"\\t\", np.ndim(c), np.shape(c))"
   ]
  },
  {
   "cell_type": "code",
   "execution_count": 93,
   "id": "cdcbb1dd-c71a-4b03-95a8-78468104c771",
   "metadata": {},
   "outputs": [
    {
     "name": "stdout",
     "output_type": "stream",
     "text": [
      "1\n",
      "21\n",
      "4\n",
      "[5]\n",
      "[2 5]\n",
      "[[ 0  3  6]\n",
      " [14 17 20]]\n"
     ]
    }
   ],
   "source": [
    "# Indexing and Slicing\n",
    "# ndarray[start:stop:step]\n",
    "\n",
    "a = np.array([1, 1, 2, 3, 5, 8, 13, 21])\n",
    "b = np.array([[1,2,3], [4,5,6]])\n",
    "c = np.arange(28).reshape(4, 7)\n",
    "print(a[0])\n",
    "print(a[-1])\n",
    "print(b[1,0])\n",
    "print(b[1:2, 1])\n",
    "print(b[: , 1])\n",
    "print(c[::2, ::3])"
   ]
  },
  {
   "cell_type": "code",
   "execution_count": 102,
   "id": "c9a5d27d-9d53-4964-bc9f-a707c4e0a3dd",
   "metadata": {},
   "outputs": [
    {
     "name": "stdout",
     "output_type": "stream",
     "text": [
      "[[1. 1. 1.]\n",
      " [1. 1. 1.]]\n",
      "[[0. 0. 0.]\n",
      " [0. 0. 0.]]\n",
      "[[0. 0. 0.]\n",
      " [0. 0. 0.]]\n"
     ]
    }
   ],
   "source": [
    "# Creating arrays with ones, zerso and empty\n",
    "\n",
    "a = np.ones((2,3))\n",
    "b = np.zeros((2,3))\n",
    "c = np.empty((2,3))\n",
    "print(a)\n",
    "print(b)\n",
    "print(c)"
   ]
  },
  {
   "cell_type": "code",
   "execution_count": 116,
   "id": "d7d6d9bf-a3b9-4d1d-ab44-dc949e7dad2a",
   "metadata": {},
   "outputs": [
    {
     "name": "stdout",
     "output_type": "stream",
     "text": [
      "1\n",
      "[[1. 0. 0. 0.]\n",
      " [0. 1. 0. 0.]\n",
      " [0. 0. 1. 0.]\n",
      " [0. 0. 0. 1.]]\n",
      "[[0. 1. 0. 0. 0.]\n",
      " [0. 0. 1. 0. 0.]\n",
      " [0. 0. 0. 1. 0.]]\n"
     ]
    }
   ],
   "source": [
    "# Copying arrays and creating identity functions\n",
    "\n",
    "a = np.array([[1,2,3], [4,5,6]])\n",
    "b = np.identity(4)\n",
    "c = np.eye(3, 5, k=1)\n",
    "print(a[0,0])\n",
    "print(b)\n",
    "print(c)"
   ]
  },
  {
   "cell_type": "markdown",
   "id": "10c600b2-319b-4744-b97e-7e42691033d6",
   "metadata": {},
   "source": [
    "### 3. Numpy Data Objects, dtype"
   ]
  },
  {
   "cell_type": "code",
   "execution_count": 119,
   "id": "2b3ca7dd-7c04-4256-b9da-e31578c96698",
   "metadata": {},
   "outputs": [
    {
     "name": "stdout",
     "output_type": "stream",
     "text": [
      "int64\n",
      "float32\n"
     ]
    }
   ],
   "source": [
    "# dtype \n",
    "\n",
    "a = np.array([1,2,3])\n",
    "b = np.array([1,2,3], dtype=np.float32)\n",
    "print(a.dtype)\n",
    "print(b.dtype)"
   ]
  },
  {
   "cell_type": "code",
   "execution_count": 134,
   "id": "515d313a-f0c7-499e-b9fe-7fb944945419",
   "metadata": {},
   "outputs": [
    {
     "name": "stdout",
     "output_type": "stream",
     "text": [
      "[100 200 300]\n"
     ]
    },
    {
     "data": {
      "text/plain": [
       "array([(b'element1', 100), (b'element2', 200), (b'element3', 300)],\n",
       "      dtype=[('column1', 'S20'), ('column2', '<i4')])"
      ]
     },
     "execution_count": 134,
     "metadata": {},
     "output_type": "execute_result"
    }
   ],
   "source": [
    "# Structured Arrays\n",
    "\n",
    "atype = np.dtype([(\"type1\", np.int32)])\n",
    "a = np.array([100, 200, 300], dtype=atype)\n",
    "print( a['type1'] )\n",
    "\n",
    "b = np.dtype([\n",
    "    ('column1', 'S20'), ('column2','i4')\n",
    "])\n",
    "\n",
    "c = np.array([\n",
    "    ('element1', 100), ('element2', 200), ('element3', 300)\n",
    "], dtype=b)\n",
    "c"
   ]
  },
  {
   "cell_type": "code",
   "execution_count": 140,
   "id": "caf39bd1-15f7-493b-abe8-af4195cf60da",
   "metadata": {},
   "outputs": [],
   "source": [
    "# Input and output of structured arrays\n",
    "\n",
    "np.savetxt(\"file1.csv\", c, fmt=\"%s;%d\", delimiter=\";\")\n",
    "inpu = np.genfromtxt(\"file1.csv\", dtype=b, delimiter=\";\")"
   ]
  },
  {
   "cell_type": "code",
   "execution_count": 150,
   "id": "f4a73bcf-a5ea-4c09-82be-6e6a2b7fce65",
   "metadata": {},
   "outputs": [
    {
     "data": {
      "text/plain": [
       "array([ -800, -1690, -2580, -3470], dtype=int32)"
      ]
     },
     "execution_count": 150,
     "metadata": {},
     "output_type": "execute_result"
    }
   ],
   "source": [
    "# Operations\n",
    "\n",
    "dt = np.dtype([('Columns1', 'U20'), ('Column2', 'i4')])\n",
    "table1 =  np.array([\n",
    "    ('element1', 200), ('element2', 310), ('element3', 420), ('element4', 530)\n",
    "], dtype=dt)\n",
    "\n",
    "table2 =  np.array([\n",
    "     ('element1', 1000), ('element2', 2000), ('element3', 3000), ('element4', 4000)\n",
    "], dtype=dt)\n",
    "\n",
    "a = table1 != table2\n",
    "b = table1['Column2'] - table2['Column2']\n",
    "b"
   ]
  },
  {
   "cell_type": "markdown",
   "id": "b3561fcb-bfe6-4690-a8da-eff6d332ba01",
   "metadata": {},
   "source": [
    "### 4. Numerical Operations on Numpy Arrays"
   ]
  },
  {
   "cell_type": "code",
   "execution_count": 161,
   "id": "71784537-7ad6-47d4-8686-e675f96fe4cd",
   "metadata": {},
   "outputs": [
    {
     "name": "stdout",
     "output_type": "stream",
     "text": [
      "[3 4 5 6 7]\n",
      "[ 2  4  6  8 10]\n",
      "[-1  0  1  2  3]\n",
      "[ 1  4  9 16 25]\n",
      "[0.5 1.  1.5 2.  2.5]\n",
      "[[ 2.  4.  6.]\n",
      " [ 8. 10. 12.]\n",
      " [14. 16. 18.]]\n"
     ]
    }
   ],
   "source": [
    "# Scalars and arithmetics operations with two arrays\n",
    "\n",
    "a = np.array([1,2,3,4,5])\n",
    "print( a+2 )\n",
    "print( a*2 )\n",
    "print( a-2 )\n",
    "print( a**2 )\n",
    "print( a/2 )\n",
    "\n",
    "b = np.array([[1,2,3], [4,5,6], [7,8,9]]) \n",
    "c = np.ones((3,3))\n",
    "print( b * (c + 1) )"
   ]
  },
  {
   "cell_type": "code",
   "execution_count": 165,
   "id": "16d07121-6fc5-4e6f-988b-ec6b76522739",
   "metadata": {},
   "outputs": [
    {
     "name": "stdout",
     "output_type": "stream",
     "text": [
      "[[ 6.  6.  6.]\n",
      " [15. 15. 15.]\n",
      " [24. 24. 24.]] \n",
      "\n",
      "[[1. 2. 3.]\n",
      " [4. 5. 6.]\n",
      " [7. 8. 9.]] \n",
      "\n"
     ]
    }
   ],
   "source": [
    "# Matrix Multiplication and two dimmensional arrays\n",
    "\n",
    "print( np.dot(b, c) , \"\\n\")\n",
    "print( b * c , \"\\n\")"
   ]
  },
  {
   "cell_type": "code",
   "execution_count": 175,
   "id": "c94bce7c-432f-43bc-a1c1-9d47a8d8eac1",
   "metadata": {},
   "outputs": [
    {
     "name": "stdout",
     "output_type": "stream",
     "text": [
      "[[ True False  True]\n",
      " [False  True False]\n",
      " [ True  True False]]\n",
      "False\n",
      "[[ True  True]\n",
      " [ True False]]\n",
      "[[ True False]\n",
      " [False False]]\n"
     ]
    }
   ],
   "source": [
    "# Comparison operators and Logical Operators\n",
    "\n",
    "a = np.array([ [11, 12, 13], [21, 22, 23], [31, 32, 33] ])\n",
    "b = np.array([ [11, 102, 13], [201, 22, 203], [31, 32, 303] ])\n",
    "print(a == b)\n",
    "print(np.array_equal(a, b))\n",
    "\n",
    "a = np.array([ [True, True], [False, False]])\n",
    "b = np.array([ [True, False], [True, False]])\n",
    "print(np.logical_or(a, b))\n",
    "print(np.logical_and(a, b))"
   ]
  },
  {
   "cell_type": "code",
   "execution_count": 196,
   "id": "66e879f0-e5de-4232-a179-d80391465961",
   "metadata": {},
   "outputs": [
    {
     "name": "stdout",
     "output_type": "stream",
     "text": [
      "[[11 24 39]\n",
      " [21 44 69]\n",
      " [31 64 99]] \n",
      "\n",
      "[[12 14 16]\n",
      " [22 24 26]\n",
      " [32 34 36]] \n",
      "\n",
      "[[1]\n",
      " [2]\n",
      " [3]] \n",
      "\n",
      "[[1 2 3]\n",
      " [1 2 3]\n",
      " [1 2 3]] \n",
      "\n",
      "[[1 2 3]\n",
      " [1 2 3]\n",
      " [1 2 3]]\n"
     ]
    }
   ],
   "source": [
    "# Broadcasting\n",
    "\n",
    "a = np.array([ [11, 12, 13], [21, 22, 23], [31, 32, 33] ])\n",
    "b = np.array([1, 2, 3])\n",
    "\n",
    "print(a * b, \"\\n\")\n",
    "print(a + b, \"\\n\")\n",
    "\n",
    "# how to turn a row vector into a column vector \n",
    "\n",
    "c = np.array([1,2,3])\n",
    "print( c[:, np.newaxis], \"\\n\" )\n",
    "\n",
    "# Concatenate\n",
    "b = np.array([1,2,3])\n",
    "b = b[np.newaxis, :]\n",
    "b = np.concatenate((b,b,b))\n",
    "print(b, \"\\n\")\n",
    "\n",
    "# tile\n",
    "b = np.tile(np.array([1,2,3]), (3,1))\n",
    "print(b)"
   ]
  },
  {
   "cell_type": "code",
   "execution_count": 212,
   "id": "a058db38-2404-470b-b939-14a23da51754",
   "metadata": {},
   "outputs": [
    {
     "data": {
      "text/plain": [
       "array([[    0,  1498,  1063,  1968,  1498,  1758,  1469,  1472,  2230],\n",
       "       [-1498,     0,  -435,   470,     0,   260,   -29,   -26,   732],\n",
       "       [-1063,   435,     0,   905,   435,   695,   406,   409,  1167],\n",
       "       [-1968,  -470,  -905,     0,  -470,  -210,  -499,  -496,   262],\n",
       "       [-1498,     0,  -435,   470,     0,   260,   -29,   -26,   732],\n",
       "       [-1758,  -260,  -695,   210,  -260,     0,  -289,  -286,   472],\n",
       "       [-1469,    29,  -406,   499,    29,   289,     0,     3,   761],\n",
       "       [-1472,    26,  -409,   496,    26,   286,    -3,     0,   758],\n",
       "       [-2230,  -732, -1167,  -262,  -732,  -472,  -761,  -758,     0]])"
      ]
     },
     "execution_count": 212,
     "metadata": {},
     "output_type": "execute_result"
    }
   ],
   "source": [
    "# Distance matrix\n",
    "matrix = np.array( [0,  1498, 1063, 1968, 1498, 1758, 1469, 1472, 2230] )\n",
    "matrix - matrix[:, np.newaxis]"
   ]
  },
  {
   "cell_type": "markdown",
   "id": "c6fe661a-1e4e-4294-ba36-0b45083fae58",
   "metadata": {},
   "source": [
    "### 5. Numpy Arrays: Concatenating, Flattening and Adding Dimensions"
   ]
  },
  {
   "cell_type": "code",
   "execution_count": 220,
   "id": "24ddc335-5c2c-4d3b-b9a4-47832d5ec9ea",
   "metadata": {},
   "outputs": [
    {
     "name": "stdout",
     "output_type": "stream",
     "text": [
      "[ 0  1  2  3  4  5  6  7  8  9 10 11 12 13 14 15 16 17 18 19 20 21 22 23]\n",
      "[ 0  1  2  3  4  5  6  7  8  9 10 11 12 13 14 15 16 17 18 19 20 21 22 23]\n",
      "[ 0  8 16  2 10 18  4 12 20  6 14 22  1  9 17  3 11 19  5 13 21  7 15 23]\n",
      "[ 0  1  2  3  4  5  6  7  8  9 10 11 12 13 14 15 16 17 18 19 20 21 22 23]\n"
     ]
    }
   ],
   "source": [
    "# flatten\n",
    "\n",
    "a = np.array([[[ 0,  1],\n",
    "               [ 2,  3],\n",
    "               [ 4,  5],\n",
    "               [ 6,  7]],\n",
    "              [[ 8,  9],\n",
    "               [10, 11],\n",
    "               [12, 13],\n",
    "               [14, 15]],\n",
    "              [[16, 17],\n",
    "               [18, 19],\n",
    "               [20, 21],\n",
    "               [22, 23]]])\n",
    "\n",
    "print(a.flatten())\n",
    "print(a.flatten(order=\"C\"))\n",
    "print(a.flatten(order=\"F\"))\n",
    "print(a.flatten(order=\"A\"))"
   ]
  },
  {
   "cell_type": "code",
   "execution_count": 226,
   "id": "5bf3d445-fc65-42c2-a627-b6072e05e74d",
   "metadata": {},
   "outputs": [
    {
     "name": "stdout",
     "output_type": "stream",
     "text": [
      "[[[ 0  1  2  3]\n",
      "  [ 4  5  6  7]\n",
      "  [ 8  9 10 11]]\n",
      "\n",
      " [[12 13 14 15]\n",
      "  [16 17 18 19]\n",
      "  [20 21 22 23]]]\n"
     ]
    }
   ],
   "source": [
    "# reshape\n",
    "\n",
    "a = np.array(range(24))\n",
    "print(a.reshape((2,3,4)))"
   ]
  },
  {
   "cell_type": "code",
   "execution_count": 239,
   "id": "b616afad-153a-4341-ac84-6741b659d95e",
   "metadata": {},
   "outputs": [
    {
     "name": "stdout",
     "output_type": "stream",
     "text": [
      "[11 22 18  7  6  1  3  5] \n",
      "\n",
      "Axis = 0\n",
      " [[[  0   1]\n",
      "  [  2   3]\n",
      "  [  4   5]\n",
      "  [  6   7]]\n",
      "\n",
      " [[  8   9]\n",
      "  [ 10  11]\n",
      "  [ 12  13]\n",
      "  [ 14  15]]\n",
      "\n",
      " [[ 16  17]\n",
      "  [ 18  19]\n",
      "  [ 20  21]\n",
      "  [ 22  23]]\n",
      "\n",
      " [[100 101]\n",
      "  [102 103]\n",
      "  [104 105]\n",
      "  [106 107]]\n",
      "\n",
      " [[108 109]\n",
      "  [110 111]\n",
      "  [112 113]\n",
      "  [114 115]]\n",
      "\n",
      " [[116 117]\n",
      "  [118 119]\n",
      "  [120 121]\n",
      "  [122 123]]] \n",
      "\n",
      "Axis = 1\n",
      " [[[  0   1]\n",
      "  [  2   3]\n",
      "  [  4   5]\n",
      "  [  6   7]\n",
      "  [100 101]\n",
      "  [102 103]\n",
      "  [104 105]\n",
      "  [106 107]]\n",
      "\n",
      " [[  8   9]\n",
      "  [ 10  11]\n",
      "  [ 12  13]\n",
      "  [ 14  15]\n",
      "  [108 109]\n",
      "  [110 111]\n",
      "  [112 113]\n",
      "  [114 115]]\n",
      "\n",
      " [[ 16  17]\n",
      "  [ 18  19]\n",
      "  [ 20  21]\n",
      "  [ 22  23]\n",
      "  [116 117]\n",
      "  [118 119]\n",
      "  [120 121]\n",
      "  [122 123]]]\n"
     ]
    }
   ],
   "source": [
    "# Concatenating Arrays\n",
    "\n",
    "a = np.array([11,22])\n",
    "b = np.array([18,7,6])\n",
    "c = np.array([1,3,5])\n",
    "print(np.concatenate((a,b,c)), \"\\n\")\n",
    "\n",
    "a = np.array(range(24))\n",
    "a = a.reshape((3,4,2))\n",
    "b = np.array(range(100,124))\n",
    "b = b.reshape((3,4,2))\n",
    "print( \"Axis = 0\\n\", np.concatenate((a,b)) , \"\\n\")\n",
    "print( \"Axis = 1\\n\", np.concatenate((a,b), axis=1) )"
   ]
  },
  {
   "cell_type": "code",
   "execution_count": 255,
   "id": "e74c0173-f23a-4011-a986-5f650f8c299c",
   "metadata": {},
   "outputs": [
    {
     "name": "stdout",
     "output_type": "stream",
     "text": [
      "[[1]\n",
      " [2]\n",
      " [3]\n",
      " [4]\n",
      " [5]]\n",
      "[[3 4 5]\n",
      " [1 9 0]]\n",
      "[[3 1]\n",
      " [4 9]\n",
      " [5 0]]\n",
      "[[1 2 1 2 1 2 1 2]\n",
      " [3 4 3 4 3 4 3 4]\n",
      " [1 2 1 2 1 2 1 2]\n",
      " [3 4 3 4 3 4 3 4]\n",
      " [1 2 1 2 1 2 1 2]\n",
      " [3 4 3 4 3 4 3 4]]\n"
     ]
    }
   ],
   "source": [
    "# Adding new dimensions, stacking and tile\n",
    "\n",
    "a = np.array([1,2,3,4,5])\n",
    "a = a[:, np.newaxis]\n",
    "print(a)\n",
    "\n",
    "a = np.array([3,4,5])\n",
    "b = np.array([1,9,0])\n",
    "print(np.vstack((a,b)))\n",
    "print(np.column_stack((a,b)))\n",
    "\n",
    "a = np.array([ [1, 2], [3, 4]])\n",
    "print( np.tile(a, (3,4)) )"
   ]
  },
  {
   "cell_type": "markdown",
   "id": "c60d383c-2bbe-4868-993e-d904c7d03f00",
   "metadata": {},
   "source": [
    "### 6. Python, Random Numbers and Probability"
   ]
  },
  {
   "cell_type": "code",
   "execution_count": 263,
   "id": "be96d960-8ade-4f31-9f35-efc8539c07d4",
   "metadata": {},
   "outputs": [
    {
     "data": {
      "text/plain": [
       "array([0.07600362, 0.03677143, 0.12826016, 0.09982018, 0.12709773,\n",
       "       0.09370369, 0.0666201 , 0.11755792, 0.13903833, 0.11512684])"
      ]
     },
     "execution_count": 263,
     "metadata": {},
     "output_type": "execute_result"
    }
   ],
   "source": [
    "random_number = np.random.random(10)\n",
    "random_number = random_number / random_number.sum()\n",
    "random_number"
   ]
  },
  {
   "cell_type": "code",
   "execution_count": 269,
   "id": "81af4872-3281-4b9d-ad86-c34b05e9ee37",
   "metadata": {},
   "outputs": [
    {
     "data": {
      "text/plain": [
       "array([4, 5, 3, 3, 2, 3, 1, 4, 3, 4])"
      ]
     },
     "execution_count": 269,
     "metadata": {},
     "output_type": "execute_result"
    }
   ],
   "source": [
    "# Random Integer Numbers\n",
    "\n",
    "a = np.random.randint(low=1,high=6, size=10)\n",
    "a"
   ]
  },
  {
   "cell_type": "code",
   "execution_count": 281,
   "id": "2bfd1610-16ce-4249-8347-88df27c03bcb",
   "metadata": {},
   "outputs": [
    {
     "data": {
      "text/plain": [
       "array(['Strasbourg', 'Munich', 'Zurich', 'Augsburg'], dtype='<U10')"
      ]
     },
     "execution_count": 281,
     "metadata": {},
     "output_type": "execute_result"
    }
   ],
   "source": [
    "# Random choices\n",
    "\n",
    "cities = [\"Berlin\", \"Hamburg\", \"Munich\", \"Amsterdam\", \"London\", \"Paris\", \"Zurich\", \"Heidelberg\", \"Strasbourg\", \"Augsburg\", \"Milan\", \"Rome\"]\n",
    "np.random.choice(cities, 4)\n",
    "np.random.choice(cities, 4, replace=False)"
   ]
  },
  {
   "cell_type": "code",
   "execution_count": 284,
   "id": "9b1529ea-ad20-43aa-8f0c-e635cad1c297",
   "metadata": {},
   "outputs": [
    {
     "data": {
      "text/plain": [
       "array([[0.45897933, 0.49988739, 0.13541284, 0.75184841],\n",
       "       [0.66909339, 0.58304385, 0.74949698, 0.5068202 ],\n",
       "       [0.84405883, 0.19660602, 0.20287334, 0.27272323]])"
      ]
     },
     "execution_count": 284,
     "metadata": {},
     "output_type": "execute_result"
    }
   ],
   "source": [
    "# Random samples\n",
    "\n",
    "a = np.random.random_sample((3,4))\n",
    "a"
   ]
  },
  {
   "cell_type": "markdown",
   "id": "86b0bf77-14c2-4c97-a255-d2a7c3dc91b7",
   "metadata": {},
   "source": [
    "### 7. Weighted Probabilities"
   ]
  },
  {
   "cell_type": "code",
   "execution_count": 286,
   "id": "3f4942c5-e62d-42c4-ab95-1d8f7a9d4f5c",
   "metadata": {},
   "outputs": [
    {
     "name": "stdout",
     "output_type": "stream",
     "text": [
      "[0, np.float64(0.2), np.float64(0.7), np.float64(1.0)]\n"
     ]
    }
   ],
   "source": [
    "weights = [0.2, 0.5, 0.3]\n",
    "cum_weights = [0] + list(np.cumsum(weights))\n",
    "print(cum_weights)"
   ]
  },
  {
   "cell_type": "code",
   "execution_count": 305,
   "id": "2f30e5af-eb01-44eb-b167-d579b26d222f",
   "metadata": {},
   "outputs": [
    {
     "data": {
      "text/plain": [
       "np.str_('philosopher')"
      ]
     },
     "execution_count": 305,
     "metadata": {},
     "output_type": "execute_result"
    }
   ],
   "source": [
    "# Weighted choice\n",
    "professions = [\"scientist\", \n",
    "               \"philosopher\", \n",
    "               \"engineer\", \n",
    "               \"priest\", \n",
    "               \"programmer\"]\n",
    "probabilities = [0.2, 0.05, 0.3, 0.15, 0.3]\n",
    "np.random.choice(professions, p=probabilities)"
   ]
  },
  {
   "cell_type": "code",
   "execution_count": 306,
   "id": "40aa7f46-744f-46c1-a883-10a1a4814f1f",
   "metadata": {},
   "outputs": [
    {
     "data": {
      "text/plain": [
       "[np.str_('The'), np.str_('green'), np.str_('house'), np.str_('blinks')]"
      ]
     },
     "execution_count": 306,
     "metadata": {},
     "output_type": "execute_result"
    }
   ],
   "source": [
    "# Cartesian Choice\n",
    "def cartesian_choice(*iterables):\n",
    "    res = []\n",
    "    for population in iterables:\n",
    "        res.append(np.random.choice(population))\n",
    "    return res\n",
    "\n",
    "cartesian_choice([\"The\", \"A\"],\n",
    "                 [\"red\", \"green\", \"blue\", \"yellow\", \"grey\"], \n",
    "                 [\"car\", \"house\", \"fish\", \"light\"],\n",
    "                 [\"smells\", \"dreams\", \"blinks\", \"shines\"])"
   ]
  },
  {
   "cell_type": "code",
   "execution_count": 321,
   "id": "ffc1b214-dbeb-41f8-bfbc-441d2b322012",
   "metadata": {},
   "outputs": [
    {
     "name": "stdout",
     "output_type": "stream",
     "text": [
      "5, 1, 2, 1, 2, 9, 1, 9, 7, 5, \n",
      "Another seed\n",
      "1, 2, 8, 2, 8, 3, 9, 1, 1, 5, \n",
      "Again the first seed\n",
      "1, 2, 8, 2, 8, 3, 9, 1, 1, 5, "
     ]
    }
   ],
   "source": [
    "# Random seed\n",
    "\n",
    "np.random.seed(10)\n",
    "for i in range(10):\n",
    "    print(np.random.randint(1,10), end=\", \")\n",
    "\n",
    "print(\"\\nAnother seed\")\n",
    "\n",
    "np.random.seed(11)\n",
    "for i in range(10):\n",
    "    print(np.random.randint(1,10), end=\", \")\n",
    "\n",
    "print(\"\\nAgain the first seed\")\n",
    "\n",
    "np.random.seed(11)\n",
    "for i in range(10):\n",
    "    print(np.random.randint(1,10), end=\", \")"
   ]
  },
  {
   "cell_type": "markdown",
   "id": "42fde51c-db08-4e88-8562-d61b682b0d44",
   "metadata": {},
   "source": [
    "### 8. Synthetical Test Data With Python"
   ]
  },
  {
   "cell_type": "code",
   "execution_count": 323,
   "id": "1a96c619-0b23-4f65-a4d7-591845fcda08",
   "metadata": {},
   "outputs": [
    {
     "name": "stdout",
     "output_type": "stream",
     "text": [
      "{'Jane Looper', 'John Miller', 'John Smith', 'Bernard Smiley', 'Eve Rampman', 'Roger Moore', 'Simone Chopman', 'John Cook', 'Laura Bychan', 'Roger Bychan', 'Sarah Moore', 'Roger Chopman', 'Roger Rampman', 'John Looper', 'Sarah Miles'}\n"
     ]
    }
   ],
   "source": [
    "firstnames = [\"John\", \"Eve\", \"Jane\", \"Paul\", \n",
    "              \"Frank\", \"Laura\", \"Robert\", \n",
    "              \"Kathrin\", \"Roger\", \"Simone\",\n",
    "              \"Bernard\", \"Sarah\", \"Yvonne\"]\n",
    "surnames = [\"Singer\", \"Miles\", \"Moore\", \n",
    "            \"Looper\", \"Rampman\", \"Chopman\", \n",
    "            \"Smiley\", \"Bychan\", \"Smith\",\n",
    "            \"Baker\", \"Miller\", \"Cook\"]\n",
    "   \n",
    "number_of_specialists = 15\n",
    "    \n",
    "employees = set()\n",
    "while len(employees) < number_of_specialists:\n",
    "    employee = cartesian_choice(firstnames, surnames)\n",
    "    employees.add(\" \".join(employee))\n",
    "\n",
    "print(employees)"
   ]
  },
  {
   "cell_type": "markdown",
   "id": "21771818-ca4e-4e5e-a113-c60e654eb44f",
   "metadata": {},
   "source": [
    "### 9. Numpy: Boolean Indexing"
   ]
  },
  {
   "cell_type": "code",
   "execution_count": 330,
   "id": "f8f31251-5095-4d5e-ae1b-ba317405b48f",
   "metadata": {},
   "outputs": [
    {
     "name": "stdout",
     "output_type": "stream",
     "text": [
      "[ True False False  True False False]\n",
      "[False False  True False  True False]\n",
      "[[ True  True  True  True]\n",
      " [ True  True  True False]\n",
      " [ True  True False False]]\n"
     ]
    }
   ],
   "source": [
    "a = np.array([4, 7, 3, 4, 2, 8])\n",
    "b = np.array([[42,56,89,65],\n",
    "              [99,88,42,12],\n",
    "              [55,42,17,18]])\n",
    "\n",
    "print(a == 4)\n",
    "print(a < 4)\n",
    "print(b >= 42)"
   ]
  },
  {
   "cell_type": "code",
   "execution_count": 368,
   "id": "4f51d7a1-f0d1-4cb8-9ab9-dce31d23ab9d",
   "metadata": {},
   "outputs": [
    {
     "data": {
      "text/plain": [
       "array([[1, 1, 1, 1, 0, 1, 1, 1, 1],\n",
       "       [1, 1, 1, 0, 0, 0, 1, 1, 1],\n",
       "       [1, 1, 1, 0, 1, 0, 1, 1, 1],\n",
       "       [1, 1, 0, 0, 1, 0, 0, 1, 1],\n",
       "       [1, 1, 0, 1, 1, 1, 0, 1, 1],\n",
       "       [1, 0, 0, 1, 1, 1, 0, 0, 1],\n",
       "       [1, 0, 1, 1, 1, 1, 1, 0, 1],\n",
       "       [1, 0, 1, 1, 1, 1, 1, 0, 1],\n",
       "       [1, 0, 1, 1, 1, 1, 1, 0, 1],\n",
       "       [1, 0, 0, 0, 0, 0, 0, 0, 1],\n",
       "       [1, 0, 1, 1, 1, 1, 1, 0, 1],\n",
       "       [1, 0, 1, 1, 1, 1, 1, 0, 1],\n",
       "       [1, 0, 1, 1, 1, 1, 1, 0, 1],\n",
       "       [1, 0, 1, 1, 1, 1, 1, 0, 1],\n",
       "       [1, 0, 1, 1, 1, 1, 1, 0, 1]], dtype=int8)"
      ]
     },
     "execution_count": 368,
     "metadata": {},
     "output_type": "execute_result"
    }
   ],
   "source": [
    "a = np.array([\n",
    "[12, 13, 14, 12, 16, 14, 11, 10,  9],\n",
    "[11, 14, 12, 15, 15, 16, 10, 12, 11],\n",
    "[10, 12, 12, 15, 14, 16, 10, 12, 12],\n",
    "[ 9, 11, 16, 15, 14, 16, 15, 12, 10],\n",
    "[12, 11, 16, 14, 10, 12, 16, 12, 13],\n",
    "[10, 15, 16, 14, 14, 14, 16, 15, 12],\n",
    "[13, 17, 14, 10, 14, 11, 14, 15, 10],\n",
    "[10, 16, 12, 14, 11, 12, 14, 18, 11],\n",
    "[10, 19, 12, 14, 11, 12, 14, 18, 10],\n",
    "[14, 22, 17, 19, 16, 17, 18, 17, 13],\n",
    "[10, 16, 12, 14, 11, 12, 14, 18, 11],\n",
    "[10, 16, 12, 14, 11, 12, 14, 18, 11],\n",
    "[10, 19, 12, 14, 11, 12, 14, 18, 10],\n",
    "[14, 22, 12, 14, 11, 12, 14, 17, 13],\n",
    "[10, 16, 12, 14, 11, 12, 14, 18, 11]])\n",
    "\n",
    "b = a < 15\n",
    "b.astype(np.int8)"
   ]
  },
  {
   "cell_type": "code",
   "execution_count": 374,
   "id": "ce9669f7-3f94-44c0-bf7e-49247ebdeeed",
   "metadata": {},
   "outputs": [
    {
     "name": "stdout",
     "output_type": "stream",
     "text": [
      "[0.37348765 0.03325828 0.21784499]\n",
      "[45]\n"
     ]
    }
   ],
   "source": [
    "# Fancy indexing\n",
    "\n",
    "a = np.random.random(10)\n",
    "print( a[a<0.5] )\n",
    "\n",
    "a = np.array([3,4,6,10,24,89,45,43,46,99,100])\n",
    "print( a[ (a%3==0) & (a%5==0)] )"
   ]
  },
  {
   "cell_type": "code",
   "execution_count": 449,
   "id": "6b68a8ed-3273-433b-9b73-4133b79d3243",
   "metadata": {},
   "outputs": [
    {
     "name": "stdout",
     "output_type": "stream",
     "text": [
      "[[0 1]\n",
      " [0 2]\n",
      " [0 4]\n",
      " [1 0]\n",
      " [1 3]\n",
      " [2 0]\n",
      " [2 3]]\n",
      "[2 3 1 1 7 5 1]\n",
      "[ 1  2  4  5  8 10 13]\n",
      "7\n"
     ]
    }
   ],
   "source": [
    "# Nonzero and where, Flatnonzero and count_nonzero\n",
    "\n",
    "a = np.array([[0, 2, 3, 0, 1], [1, 0, 0, 7, 0], [5, 0, 0, 1, 0]])\n",
    "print( np.transpose( a.nonzero() ) )\n",
    "print(a[a.nonzero()])\n",
    "print(np.flatnonzero(a))\n",
    "print(np.count_nonzero(a))"
   ]
  },
  {
   "cell_type": "markdown",
   "id": "35d67006-67ea-4c7d-a4cf-c53f5497b33d",
   "metadata": {},
   "source": [
    "### 10. Matrix Arithmetics under NumPy and Python"
   ]
  },
  {
   "cell_type": "code",
   "execution_count": 451,
   "id": "8c6a41a3-77f9-44fc-beb9-45554ec8957b",
   "metadata": {},
   "outputs": [
    {
     "data": {
      "text/plain": [
       "np.int64(36)"
      ]
     },
     "execution_count": 451,
     "metadata": {},
     "output_type": "execute_result"
    }
   ],
   "source": [
    "# Scalar Product / Dot Product\n",
    "\n",
    "x = np.array([1, 2, 3])\n",
    "y = np.array([-7, 8, 9])\n",
    "np.dot(x, y)"
   ]
  },
  {
   "cell_type": "code",
   "execution_count": 453,
   "id": "9622272f-b453-469a-bc7a-fa2e5076bf8c",
   "metadata": {},
   "outputs": [
    {
     "data": {
      "text/plain": [
       "array([-1,  0,  0])"
      ]
     },
     "execution_count": 453,
     "metadata": {},
     "output_type": "execute_result"
    }
   ],
   "source": [
    "# Cross product\n",
    "\n",
    "x = np.array([0, 0, 1])\n",
    "y = np.array([0, 1, 0])\n",
    "np.cross(x, y)"
   ]
  },
  {
   "cell_type": "markdown",
   "id": "ecc0633f-6cc9-4030-865b-f052b8738f81",
   "metadata": {},
   "source": [
    "### 11. Reading and Writing Data Files: ndarrays"
   ]
  },
  {
   "cell_type": "code",
   "execution_count": 456,
   "id": "9425062a-dff9-41c1-8c93-09140099e2f2",
   "metadata": {},
   "outputs": [],
   "source": [
    "# Saving textfiles with savetxt (fname, X, fmt=''%.18e', delimiter=' ', newline='\\n', header='', footer='', comments='# ')\n",
    "\n",
    "x = np.array([[1, 2, 3], \n",
    "              [4, 5, 6],\n",
    "              [7, 8, 9]], np.int32)\n",
    "\n",
    "np.savetxt(\"first_test.txt\", x)"
   ]
  },
  {
   "cell_type": "code",
   "execution_count": 460,
   "id": "b0c8bb1f-f628-4bed-aac6-584af2e077c0",
   "metadata": {},
   "outputs": [
    {
     "name": "stdout",
     "output_type": "stream",
     "text": [
      "[[1. 3.]\n",
      " [4. 6.]\n",
      " [7. 9.]]\n"
     ]
    }
   ],
   "source": [
    "# Loading Textfiles with loadtxt\n",
    "\n",
    "y = np.loadtxt(\"first_test.txt\", usecols=(0,2) )\n",
    "print(y)"
   ]
  },
  {
   "cell_type": "code",
   "execution_count": 462,
   "id": "022fd50a-12c9-4a5a-b62a-0d506aa86008",
   "metadata": {},
   "outputs": [
    {
     "data": {
      "text/plain": [
       "array([('\\U30302e31\\U30303030\\U30303030\\U30303030\\U30303030\\U30302b65\\U302e3220\\U30303030\\U30303030\\U30303030\\U30303030\\U302b6530\\U2e332030\\U30303030\\U30303030\\U30303030\\U30303030\\U2b653030\\U340a3030\\U3030302e', 808464432),\n",
       "       ('\\U30303030\\U30303030\\U65303030\\U2030302b\\U30302e35\\U30303030\\U30303030\\U30303030\\U30303030\\U30302b65\\U302e3620\\U30303030\\U30303030\\U30303030\\U30303030\\U302b6530\\U2e370a30\\U30303030\\U30303030\\U30303030', 808464432)],\n",
       "      dtype=[('Columns1', '<U20'), ('Column2', '<i4')])"
      ]
     },
     "execution_count": 462,
     "metadata": {},
     "output_type": "execute_result"
    }
   ],
   "source": [
    "# fromfile\n",
    "\n",
    "fh = open(\"first_test.txt\", \"rb\")\n",
    "np.fromfile(fh, dtype=dt)"
   ]
  },
  {
   "cell_type": "code",
   "execution_count": 464,
   "id": "7f371f75-21ba-4a80-9514-5ee86ddeef8f",
   "metadata": {},
   "outputs": [
    {
     "data": {
      "text/plain": [
       "array([[1., 2., 3.],\n",
       "       [4., 5., 6.],\n",
       "       [7., 8., 9.]])"
      ]
     },
     "execution_count": 464,
     "metadata": {},
     "output_type": "execute_result"
    }
   ],
   "source": [
    "# genfromtxt\n",
    "\n",
    "sales = np.genfromtxt(\"first_test.txt\", encoding='utf8', dtype=None)\n",
    "sales"
   ]
  }
 ],
 "metadata": {
  "kernelspec": {
   "display_name": "Python 3 (ipykernel)",
   "language": "python",
   "name": "python3"
  },
  "language_info": {
   "codemirror_mode": {
    "name": "ipython",
    "version": 3
   },
   "file_extension": ".py",
   "mimetype": "text/x-python",
   "name": "python",
   "nbconvert_exporter": "python",
   "pygments_lexer": "ipython3",
   "version": "3.13.7"
  }
 },
 "nbformat": 4,
 "nbformat_minor": 5
}
